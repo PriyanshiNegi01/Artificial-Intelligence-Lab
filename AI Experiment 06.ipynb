{
 "cells": [
  {
   "cell_type": "markdown",
   "id": "819da7b0",
   "metadata": {},
   "source": [
    "# Experiment 06: Best First Search\n",
    "\n",
    "## Aim:\n",
    "To implement a Python code for Best First Search algorithm.\n",
    "\n",
    "## Program:"
   ]
  },
  {
   "cell_type": "code",
   "execution_count": 1,
   "id": "4a2cb6a3",
   "metadata": {},
   "outputs": [
    {
     "name": "stdout",
     "output_type": "stream",
     "text": [
      "0 2 5 6 9 8 \n"
     ]
    }
   ],
   "source": [
    "from queue import PriorityQueue\n",
    "v = 10 # total vertices\n",
    "graph = [[] for i in range(v)]\n",
    " \n",
    "# Function For Implementing Best First Search\n",
    "# Gives output path having lowest cost\n",
    "\n",
    "def best_first_search(actual_Src, target, n):\n",
    "    visited = [False] * n\n",
    "    pq = PriorityQueue()\n",
    "    pq.put((0, actual_Src))\n",
    "    visited[actual_Src] = True\n",
    "     \n",
    "    while pq.empty() == False:\n",
    "        u = pq.get()[1]\n",
    "        # Displaying the path having lowest cost\n",
    "        print(u, end=\" \")\n",
    "        if u == target:\n",
    "            break\n",
    " \n",
    "        for v, c in graph[u]:\n",
    "            if visited[v] == False:\n",
    "                visited[v] = True\n",
    "                pq.put((c, v))\n",
    "    print()\n",
    " \n",
    "# Function for adding edges to graph\n",
    " \n",
    "def addedge(x, y, cost):\n",
    "    graph[x].append((y, cost))\n",
    "    graph[y].append((x, cost))\n",
    "\n",
    "# The nodes shown in example(by alphabets) are implemented using integers \n",
    "# addedge(x,y,cost);\n",
    "addedge(0, 1, 4)\n",
    "addedge(0, 2, 1)\n",
    "addedge(1, 3, 1)\n",
    "addedge(1, 4, 2)\n",
    "addedge(2, 5, 2)\n",
    "addedge(2, 6, 3)\n",
    "addedge(5, 7, 4)\n",
    "addedge(5, 8, 3)\n",
    "addedge(6, 9, 2)\n",
    " \n",
    "source = 0\n",
    "target = 8\n",
    "best_first_search(source, target, v)"
   ]
  },
  {
   "cell_type": "markdown",
   "id": "a9088b58",
   "metadata": {},
   "source": [
    "# Algorithm:\n",
    "\n",
    "1. Initialize a boolean array visited[] of size n to keep track of visited nodes. Initialize a PriorityQueue pq to store nodes based on their cost.\n",
    " \n",
    "2. Add the source node to the PriorityQueue with cost 0 and mark it as visited.\n",
    "\n",
    "3. While the PriorityQueue is not empty:\n",
    "    - Remove a node u with the lowest cost from the PriorityQueue.\n",
    "    - Print the node u.\n",
    "    - If the removed node u is the target node, break from the loop.\n",
    "\n",
    "4. For each neighbor v of node u:\n",
    "    - If v is not visited:\n",
    "    - Mark v as visited.\n",
    "    - Add v to the PriorityQueue with its cost.\n",
    "    \n",
    "5. Print a newline to separate the paths.\n",
    " \n",
    "6. The Best First Search algorithm terminates when the target node is found or the PriorityQueue becomes empty."
   ]
  }
 ],
 "metadata": {
  "kernelspec": {
   "display_name": "Python 3 (ipykernel)",
   "language": "python",
   "name": "python3"
  },
  "language_info": {
   "codemirror_mode": {
    "name": "ipython",
    "version": 3
   },
   "file_extension": ".py",
   "mimetype": "text/x-python",
   "name": "python",
   "nbconvert_exporter": "python",
   "pygments_lexer": "ipython3",
   "version": "3.9.13"
  }
 },
 "nbformat": 4,
 "nbformat_minor": 5
}
