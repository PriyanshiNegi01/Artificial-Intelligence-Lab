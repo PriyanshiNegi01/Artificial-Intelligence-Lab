{
 "cells": [
  {
   "cell_type": "markdown",
   "id": "0e790c99",
   "metadata": {},
   "source": [
    "# Experiment 05: BFS and DFS\n",
    "\n",
    "## Aim: \n",
    "To implement Python code for BFS and DFS traversal of a graph.\n",
    "\n",
    "## Program:"
   ]
  },
  {
   "cell_type": "code",
   "execution_count": 1,
   "id": "2f317b09",
   "metadata": {},
   "outputs": [
    {
     "name": "stdout",
     "output_type": "stream",
     "text": [
      "Breadth-First Search\n",
      "A B C D E F "
     ]
    }
   ],
   "source": [
    "# BFS:\n",
    "graph = {\n",
    "  'A' : ['B','C'],\n",
    "  'B' : ['D', 'E'],\n",
    "  'C' : ['F'],\n",
    "  'D' : [],\n",
    "  'E' : ['F'],\n",
    "  'F' : []\n",
    "}\n",
    "\n",
    "visited = [] # List for visited nodes.\n",
    "queue = []     #Initialize a queue\n",
    "\n",
    "def bfs(visited, graph, node): #function for BFS\n",
    "  visited.append(node)\n",
    "  queue.append(node)\n",
    "\n",
    "  while queue:          # Creating loop to visit each node\n",
    "    m = queue.pop(0)\n",
    "    print (m, end = \" \")\n",
    "\n",
    "    for neighbour in graph[m]:\n",
    "      if neighbour not in visited:\n",
    "        visited.append(neighbour)\n",
    "        queue.append(neighbour)\n",
    "\n",
    "# Driver Code\n",
    "print(\"Breadth-First Search\")\n",
    "bfs(visited, graph, 'A')    # function calling"
   ]
  },
  {
   "cell_type": "markdown",
   "id": "1e9d321e",
   "metadata": {},
   "source": [
    "## Algorithm (BFS):\n",
    "\n",
    "1. Start with an empty list 'visited' to keep track of visited nodes and an empty queue 'queue' for BFS traversal.\n",
    "\n",
    "2. Enqueue the starting node (root node) into the 'queue' and mark it as visited by adding it to the 'visited' list.\n",
    "\n",
    "3. While the 'queue' is not empty:\n",
    "\n",
    "- Dequeue a node 'current_node' from the front of the queue.\n",
    "- Print or process 'current_node'.\n",
    "- Enqueue all unvisited neighbors of 'current_node' into the 'queue', and mark them as visited by adding them to the 'visited' list.\n",
    "\n",
    "4. Repeat step 3 until the queue becomes empty.\n",
    "\n",
    "5. When the BFS traversal is complete (the queue is empty), the algorithm has visited all reachable nodes in the graph.\n",
    "\n",
    "The time complexity of BFS is O(V + E), where V is the number of vertices (nodes) and E is the number of edges in the graph.\n",
    "\n",
    "The space complexity of BFS is O(V), where V is the number of vertices. This space is primarily used for the visited list and the queue."
   ]
  },
  {
   "cell_type": "code",
   "execution_count": 2,
   "id": "4eddebef",
   "metadata": {},
   "outputs": [
    {
     "name": "stdout",
     "output_type": "stream",
     "text": [
      "Following is the Depth-First Search\n",
      "A\n",
      "B\n",
      "D\n",
      "E\n",
      "F\n",
      "C\n"
     ]
    }
   ],
   "source": [
    "# DFS\n",
    "# Using a Python dictionary to act as an adjacency list\n",
    "graph = {\n",
    "  'A' : ['B','C'],\n",
    "  'B' : ['D', 'E'],\n",
    "  'C' : ['F'],\n",
    "  'D' : [],\n",
    "  'E' : ['F'],\n",
    "  'F' : []\n",
    "}\n",
    "\n",
    "visited = set() # Set to keep track of visited nodes of graph.\n",
    "\n",
    "def dfs(visited, graph, node):  #function for dfs\n",
    "    if node not in visited:\n",
    "        print (node)\n",
    "        visited.add(node)\n",
    "        for neighbour in graph[node]:\n",
    "            dfs(visited, graph, neighbour)\n",
    "\n",
    "# Driver Code\n",
    "print(\"Following is the Depth-First Search\")\n",
    "dfs(visited, graph, 'A')"
   ]
  },
  {
   "cell_type": "markdown",
   "id": "923d02ff",
   "metadata": {},
   "source": [
    "## Algorithm (DFS):\n",
    "\n",
    "1. Initialize an empty set visited to keep track of visited nodes.\n",
    "\n",
    "2. Define a function dfs(visited, graph, node) to perform DFS traversal:\n",
    "\n",
    "- If the current node node is not visited:\n",
    "    - Mark the current node node as visited by adding it to the visited set.\n",
    "    - Print or process the current node.\n",
    "    - Recursively call dfs() on all unvisited neighbors of the current node node.\n",
    "\n",
    "3. Call the dfs() function with the starting node to initiate the DFS traversal.\n",
    "\n",
    "The time complexity of DFS is O(V + E), where V is the number of vertices (nodes) and E is the number of edges in the graph. This is because each vertex and each edge will be visited once during the traversal.\n",
    "\n",
    "The space complexity of DFS is O(V), where V is the number of vertices. This space is primarily used for the visited set, which keeps track of visited nodes. Additionally, the recursive calls of the DFS function consume space on the call stack proportional to the depth of the recursion, which is bounded by the number of vertices in the graph."
   ]
  }
 ],
 "metadata": {
  "kernelspec": {
   "display_name": "Python 3 (ipykernel)",
   "language": "python",
   "name": "python3"
  },
  "language_info": {
   "codemirror_mode": {
    "name": "ipython",
    "version": 3
   },
   "file_extension": ".py",
   "mimetype": "text/x-python",
   "name": "python",
   "nbconvert_exporter": "python",
   "pygments_lexer": "ipython3",
   "version": "3.9.13"
  }
 },
 "nbformat": 4,
 "nbformat_minor": 5
}
