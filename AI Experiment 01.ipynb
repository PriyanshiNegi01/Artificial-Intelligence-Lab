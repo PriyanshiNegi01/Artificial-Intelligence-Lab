{
 "cells": [
  {
   "cell_type": "markdown",
   "id": "cad0784c",
   "metadata": {},
   "source": [
    "# Experiment 01: Implement a banana camel problem \n",
    "\n",
    "## Aim:\n",
    "A person has 3000 bananas and a camel. The person wants to transport the maximum number of\n",
    "bananas to a destination which is 1000 KMs away, using only the camel as a mode of transportation.\n",
    "• The camel cannot carry more than 1000 bananas at a time and eats a banana every km it travels.\n",
    "• What is the maximum number of bananas that can be transferred to the destination using only\n",
    "camel (no other mode of transportation are allowed)\n",
    "\n",
    "## Program"
   ]
  },
  {
   "cell_type": "code",
   "execution_count": 1,
   "id": "59fcef3b",
   "metadata": {},
   "outputs": [
    {
     "name": "stdout",
     "output_type": "stream",
     "text": [
      "No. of bananas at start: 3000\n",
      "Distance to be covered: 1000\n",
      "Maximum bananas camel can carry at at a time:1000\n",
      "Total bananas delivered: 533\n"
     ]
    }
   ],
   "source": [
    "total_bananas = int(input('No. of bananas at start: '))\n",
    "distance = int(input('Distance to be covered: '))\n",
    "load_capacity = int(input('Maximum bananas camel can carry at at a time:'))\n",
    "bananas_lost = 0\n",
    "start = total_bananas\n",
    "for i in range(distance):\n",
    "    while start>0:\n",
    "        start = start-load_capacity\n",
    "        if start == 1:\n",
    "            bananas_lost = bananas_lost - 1\n",
    "        bananas_lost = bananas_lost + 2\n",
    "    bananas_lost = bananas_lost - 1\n",
    "    start = total_bananas - bananas_lost\n",
    "    if start == 0:\n",
    "        break\n",
    "print(\"Total bananas delivered:\",start)"
   ]
  },
  {
   "cell_type": "markdown",
   "id": "782e5cd2",
   "metadata": {},
   "source": [
    "## Manual Output: Manual calculation for the example you have taken:\n",
    "Since there are 3000 bananas and the Camel can only carry 1000 bananas, he will have to make 3 trips\n",
    "to carry them all to any point in between.\n",
    "<---p1---><--------p2-----><-----p3---->\n",
    "A---------------------------------------->B\n",
    "When bananas are reduced to 2000 then the Camel can shift them to another point in 2 trips and\n",
    "when the number of bananas left are <= 1000, then he should not return and only move forward.\n",
    "In the first part, P1, to shift the bananas by 1Km, the Camel will have to\n",
    "Move forward with 1000 bananas – Will eat up 1 banana in the way forward\n",
    "Leave 998 banana after 1 km and return with 1 banana – will eat up 1 banana in the way back\n",
    "Pick up the next 1000 bananas and move forward – Will eat up 1 banana in the way forward\n",
    "Leave 998 banana after 1 km and return with 1 banana – will eat up 1 banana in the way back\n",
    "Will carry the last 1000 bananas from point a and move forward – will eat up 1 banana\n",
    "Note: After point 5 the Camel does not need to return to point A again.\n",
    "So to shift 3000 bananas by 1km, the Camel will eat up 5 bananas.\n",
    "After moving to 200 km the Camel would have eaten up 1000 bananas and is now left with 2000\n",
    "bananas.\n",
    "Now in the Part P2, the Camel needs to do the following to shift the Bananas by 1km.\n",
    "Move forward with 1000 bananas – Will eat up 1 banana in the way forward\n",
    "Leave 998 banana after 1 km and return with 1 banana – will eat up this 1 banana in the way back\n",
    "Pick up the next 1000 bananas and move forward – Will eat up 1 banana in the way forward\n",
    "Note: After point 3 the Camel does not need to return to the starting point of P2.\n",
    "So to shift 2000 bananas by 1km, the Camel will eat up 3 bananas.\n",
    "After moving to 333 km the camel would have eaten up 1000 bananas and is now left with the last\n",
    "1000 bananas.\n",
    "The Camel will actually be able to cover 333.33 km, I have ignored the decimal part because it will not\n",
    "make a difference in this example.\n",
    "Hence the length of part P2 is 333 Km.\n",
    "Now, for the last part, P3, the Camel only has to move forward. He has already covered 533 (200+333)\n",
    "out of 1000 km in Parts P1 & P2. Now he has to cover only 467 km and he has 1000 bananas.\n",
    "He will eat up 467 bananas on the way forward, and at point B the Camel will be left with only 533\n",
    "Bananas."
   ]
  },
  {
   "cell_type": "code",
   "execution_count": null,
   "id": "28d4bb9c",
   "metadata": {},
   "outputs": [],
   "source": []
  }
 ],
 "metadata": {
  "kernelspec": {
   "display_name": "Python 3 (ipykernel)",
   "language": "python",
   "name": "python3"
  },
  "language_info": {
   "codemirror_mode": {
    "name": "ipython",
    "version": 3
   },
   "file_extension": ".py",
   "mimetype": "text/x-python",
   "name": "python",
   "nbconvert_exporter": "python",
   "pygments_lexer": "ipython3",
   "version": "3.9.13"
  }
 },
 "nbformat": 4,
 "nbformat_minor": 5
}
