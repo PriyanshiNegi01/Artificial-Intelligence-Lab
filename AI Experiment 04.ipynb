{
 "cells": [
  {
   "cell_type": "markdown",
   "id": "2950bc38",
   "metadata": {},
   "source": [
    "# Experiment 04: Real World Problem (Graph coloring)\n",
    "\n",
    "## Aim:\n",
    "To implement Python code for Graph Colouring problem using Greedy approach.\n",
    "\n",
    "## Program:"
   ]
  },
  {
   "cell_type": "code",
   "execution_count": 1,
   "id": "7e578b12",
   "metadata": {},
   "outputs": [
    {
     "name": "stdout",
     "output_type": "stream",
     "text": [
      "The assigned colors of the graph is:\n",
      "Vertex:  0  Color:  0\n",
      "Vertex:  1  Color:  1\n",
      "Vertex:  2  Color:  2\n",
      "Vertex:  3  Color:  0\n"
     ]
    }
   ],
   "source": [
    "# a function that will add an edge to the graph.\n",
    "def insertEdge(graph, u, v):\n",
    "    graph[u].append(v)\n",
    "    graph[v].append(u)\n",
    "    return graph\n",
    "\n",
    "\n",
    "# Greedy algo of printing the colors\n",
    "def greedyColoring(graph, V):\n",
    "    \"\"\"\n",
    "    Assigning False to the rest of the vertex means the rest of the colors are not ye assigned\n",
    "    \"\"\"\n",
    "    colorArray = [-1] * V\n",
    "\n",
    "    # Assign 0 as the first vertex\n",
    "    colorArray[0] = 0\n",
    "\n",
    "    \"\"\"\n",
    "    A temporary array to store the available colors.\n",
    "    \"\"\"\n",
    "    temp = [False] * V\n",
    "\n",
    "    # Assign colors to the rest of the vertices.\n",
    "    for u in range(1, V):\n",
    "        for i in graph[u]:\n",
    "            if (colorArray[i] != -1):\n",
    "                temp[colorArray[i]] = True\n",
    "\n",
    "        j = 0\n",
    "        while j < V:\n",
    "            if (temp[j] == False):\n",
    "                break\n",
    "\n",
    "            j += 1\n",
    "\n",
    "        colorArray[u] = j\n",
    "\n",
    "        # reset the values for next iteration.\n",
    "        for i in graph[u]:\n",
    "            if (colorArray[i] != -1):\n",
    "                temp[colorArray[i]] = False\n",
    "\n",
    "    # printing the assigned colors.\n",
    "    for i in range(u):\n",
    "        print(\"Vertex: \",\n",
    "              i, \" Color: \", colorArray[i])\n",
    "\n",
    "\n",
    "if __name__ == '__main__':\n",
    "\n",
    "    g = [[] for i in range(5)]\n",
    "    g = insertEdge(g, 0, 1)\n",
    "    g = insertEdge(g, 0, 2)\n",
    "    g = insertEdge(g, 1, 2)\n",
    "    g = insertEdge(g, 1, 3)\n",
    "    g = insertEdge(g, 2, 3)\n",
    "    g = insertEdge(g, 3, 4)\n",
    "    print(\"The assigned colors of the graph is:\")\n",
    "    greedyColoring(g, 5)\n"
   ]
  },
  {
   "cell_type": "markdown",
   "id": "384ff46b",
   "metadata": {},
   "source": [
    "## Algorithm:\n",
    "1. Initialize Data Structures:\n",
    "- Initialize an array colorArray of size V (number of vertices) to store colors assigned to vertices. Initialize all - elements to -1.\n",
    "Initialize a boolean array temp of size V to keep track of available colors. Initialize all elements to False.\n",
    "\n",
    "2. Assign Color to First Vertex:\n",
    "- Assign the color 0 to the first vertex (index 0) and mark it in colorArray.\n",
    "\n",
    "3. Iterate Through Vertices:\n",
    "- For each vertex u from 1 to V-1:\n",
    "- Iterate through the neighbors of u.\n",
    "- Mark the colors of neighboring vertices as unavailable by setting corresponding indices in temp to True.\n",
    "\n",
    "4. Find the Available Color:\n",
    "- Iterate through the colors in temp array until finding the first available (False) color. Assign this color to the current vertex u.\n",
    "\n",
    "5. Reset Temp Array:\n",
    "- Reset the temp array for the next iteration by marking colors of neighboring vertices as available.\n",
    "\n",
    "6. Print Assigned Colors:\n",
    "- Print the assigned colors for each vertex.\n",
    "\n",
    "7. Insert Edges:\n",
    "- Define a function insertEdge(graph, u, v) to add edges to the graph.\n",
    "- Add edges between vertices u and v, updating the adjacency lists of both vertices in the graph.\n",
    "\n",
    "8. Greedy Coloring:\n",
    "- Define a function greedyColoring(graph, V) to perform graph coloring.\n",
    "- Call the greedyColoring function passing the graph g and the number of vertices 5.\n",
    "\n",
    "9. Main Function:\n",
    "- Define the main block where the graph g is initialized with 5 vertices.\n",
    "- Add edges to the graph using the insertEdge function.\n",
    "- Print a message indicating the assigned colors.\n",
    "- Call the greedyColoring function passing the graph g and the number of vertices 5."
   ]
  },
  {
   "cell_type": "code",
   "execution_count": null,
   "id": "fc79fbfc",
   "metadata": {},
   "outputs": [],
   "source": []
  }
 ],
 "metadata": {
  "kernelspec": {
   "display_name": "Python 3 (ipykernel)",
   "language": "python",
   "name": "python3"
  },
  "language_info": {
   "codemirror_mode": {
    "name": "ipython",
    "version": 3
   },
   "file_extension": ".py",
   "mimetype": "text/x-python",
   "name": "python",
   "nbconvert_exporter": "python",
   "pygments_lexer": "ipython3",
   "version": "3.9.13"
  }
 },
 "nbformat": 4,
 "nbformat_minor": 5
}
